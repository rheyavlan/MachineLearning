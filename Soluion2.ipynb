{
  "nbformat": 4,
  "nbformat_minor": 0,
  "metadata": {
    "colab": {
      "name": "Soluion2.ipynb",
      "provenance": [],
      "authorship_tag": "ABX9TyMg8nEIesS4HZbTIw3WHRqu",
      "include_colab_link": true
    },
    "kernelspec": {
      "name": "python3",
      "display_name": "Python 3"
    },
    "language_info": {
      "name": "python"
    }
  },
  "cells": [
    {
      "cell_type": "markdown",
      "metadata": {
        "id": "view-in-github",
        "colab_type": "text"
      },
      "source": [
        "<a href=\"https://colab.research.google.com/github/rheyavlan/MachineLearning/blob/main/Soluion2.ipynb\" target=\"_parent\"><img src=\"https://colab.research.google.com/assets/colab-badge.svg\" alt=\"Open In Colab\"/></a>"
      ]
    },
    {
      "cell_type": "code",
      "metadata": {
        "colab": {
          "base_uri": "https://localhost:8080/",
          "height": 295
        },
        "id": "AJ2kDLE54TIG",
        "outputId": "cc666f86-49e4-41a9-f719-514da20cce1b"
      },
      "source": [
        "from scipy.io import loadmat \n",
        "from sklearn.model_selection import train_test_split\n",
        "import numpy as np\n",
        "from numpy.linalg import inv,pinv,norm\n",
        "import matplotlib.pyplot as plt\n",
        "\n",
        "\"\"\"\n",
        " Finds a D-1 order polynomial fit to the data\n",
        "\n",
        "function [err,model,errT] = polyreg(x,y,D,xT,yT)\n",
        "\n",
        " x = vector of input scalars for training\n",
        " y = vector of output scalars for training\n",
        " L = Lambda\n",
        " xT = vector of input scalars for testing\n",
        " yT = vector of output scalars for testing\n",
        " err = average squared loss on training\n",
        " model = vector of polynomial parameter coefficients\n",
        " errT = average squared loss on testing\n",
        "\n",
        " Example Usage:\n",
        "\n",
        " x = 3*(rand(50,1)-0.5);\n",
        " y = x.*x.*x-x+rand(size(x));\n",
        " [err,model] = polyreg(x,y,4);\n",
        "\"\"\"\n",
        "\n",
        "training_label = \"Training Data\"\n",
        "testing_label = \"Testing Data\"\n",
        "\n",
        "lamda = 7000\n",
        "\n",
        "def polyreg(x, y, L, xT, yT):\n",
        "\n",
        "    xTx        = x.T.dot(x) + L * np.identity(x.shape[-1])\n",
        "    theta      = inv(xTx).dot(x.T).dot(y)\n",
        "    norm_theta = norm(theta)\n",
        "    train_err  = (0.5/x.shape[0]) * (np.sum(np.power(y-x.dot(theta),2))+  L * norm_theta * norm_theta)\n",
        "    test_err   = (0.5/xT.shape[0])  * (np.sum(np.power(yT-xT.dot(theta),2))  +  L * norm_theta * norm_theta)\n",
        "    \n",
        "    \"\"\"\n",
        "    plt.figure(norm_theta)\n",
        "    plt.title('Plot for Norm Theta value = '+str(norm_theta))\n",
        "        \n",
        "    plt.plot(x, y, 'b+', label=training_label)\n",
        "    plt.plot(xT, yT, 'g+', label=testing_label)\n",
        "\n",
        "    #plt.plot(x, X_train.dot(model), 'r+')\n",
        "        \n",
        "    plt.legend(loc='upper center')\n",
        "    plt.show()\n",
        "    \"\"\"\n",
        "    return train_err, test_err\n",
        "\n",
        "\n",
        "if __name__==\"__main__\":\n",
        "\n",
        "    #Load MATLAB file problem1 consisting for 500 records for x and y of dataType Double \n",
        "    given_data = loadmat('problem2.mat')\n",
        "    x = given_data['x']\n",
        "    y = given_data['y']\n",
        "\n",
        "    #Divide the data set into training and testing data after shuffling. 50% Training and 50% Testing \n",
        "    x_train, x_test, y_train, y_test = train_test_split(x, y, test_size=0.5, shuffle=True)    \n",
        "\n",
        "    #Call the function polyreg \n",
        "    errors = [polyreg(x_train, y_train, i, x_test, y_test) for i in range(lamda)]\n",
        "\n",
        "    #Get training and testing errors from the value returned by the polyreg function \n",
        "    err = [e[0] for e in errors]\n",
        "    errT  = [e[1] for e in errors]\n",
        "\n",
        "    #Return index of the minimum element of the test error array \n",
        "    minimum_test_error = np.argmin(errT)\n",
        "\n",
        "    #We use matplotlib.lines.Line2D\n",
        "    plt.figure(0)\n",
        "    plt.xlabel('Lambda λ Value'); \n",
        "    plt.ylabel('Error Value')\n",
        "    plt.title('Cross Validation Graph')\n",
        "\n",
        "    train_line, = plt.plot(range(lamda), err,'blue',label=training_label)\n",
        "    test_line, = plt.plot(range(lamda), errT, 'green', label=testing_label)\n",
        "\n",
        "    #Highlight the value of D\n",
        "    plt.plot(minimum_test_error, errT[minimum_test_error], 'r*')\n",
        "    plt.text(minimum_test_error, errT[minimum_test_error], minimum_test_error)\n",
        "\n",
        "    plt.legend(handles=[train_line, test_line], loc='upper center')\n",
        "    plt.show()"
      ],
      "execution_count": 40,
      "outputs": [
        {
          "output_type": "display_data",
          "data": {
            "image/png": "[encoded data removed]",
            "text/plain": [
              "<Figure size 432x288 with 1 Axes>"
            ]
          },
          "metadata": {
            "needs_background": "light"
          }
        }
      ]
    }
  ]
}